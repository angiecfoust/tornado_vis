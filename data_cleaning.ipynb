{
 "cells": [
  {
   "cell_type": "code",
   "execution_count": null,
   "id": "0ad439a1",
   "metadata": {},
   "outputs": [],
   "source": [
    "# I have not tried running this yet since (AF 5/1/2024)\n",
    "\n",
    "# code found here: https://www.geeksforgeeks.org/how-to-merge-multiple-excel-files-into-a-single-files-with-python/\n",
    "\n",
    "# Found this after getting error trying the above. https://saturncloud.io/blog/how-to-read-multiple-csv-files-into-python-pandas-dataframe/ "
   ]
  },
  {
   "cell_type": "code",
   "execution_count": 17,
   "id": "2c440410",
   "metadata": {},
   "outputs": [],
   "source": [
    "# importing the required modules\n",
    "import glob\n",
    "import pandas as pd\n",
    "from pathlib import Path"
   ]
  },
  {
   "cell_type": "code",
   "execution_count": 11,
   "id": "cdc7ac9b",
   "metadata": {},
   "outputs": [],
   "source": [
    "# csv files in the path\n",
    "csv_files = glob.glob(\"Resources/*.csv\")"
   ]
  },
  {
   "cell_type": "code",
   "execution_count": 13,
   "id": "f5845142",
   "metadata": {},
   "outputs": [],
   "source": [
    "# create a new dataframe to store the merged files.\n",
    "csv_merged = pd.DataFrame()\n",
    " \n",
    "for csv_file in csv_files:\n",
    "    df = pd.read_csv(csv_file)\n",
    "    csv_merged = pd.concat([csv_merged, df])"
   ]
  },
  {
   "cell_type": "code",
   "execution_count": 18,
   "id": "f7865a96",
   "metadata": {},
   "outputs": [],
   "source": [
    "# exports the dataframe into csv file with specified name.\n",
    "filepath = Path('Resources/merged_tornado_data.csv')\n",
    "csv_merged.to_csv(filepath, index=False)"
   ]
  },
  {
   "cell_type": "code",
   "execution_count": null,
   "id": "c43d8809",
   "metadata": {},
   "outputs": [],
   "source": []
  }
 ],
 "metadata": {
  "kernelspec": {
   "display_name": "Python 3 (ipykernel)",
   "language": "python",
   "name": "python3"
  },
  "language_info": {
   "codemirror_mode": {
    "name": "ipython",
    "version": 3
   },
   "file_extension": ".py",
   "mimetype": "text/x-python",
   "name": "python",
   "nbconvert_exporter": "python",
   "pygments_lexer": "ipython3",
   "version": "3.10.13"
  }
 },
 "nbformat": 4,
 "nbformat_minor": 5
}
