{
 "cells": [
  {
   "cell_type": "code",
   "execution_count": null,
   "id": "0ad439a1",
   "metadata": {},
   "outputs": [],
   "source": [
    "# I have not tried running this yet since (AF 5/1/2024)\n",
    "\n",
    "# code found here: https://www.geeksforgeeks.org/how-to-merge-multiple-excel-files-into-a-single-files-with-python/"
   ]
  },
  {
   "cell_type": "code",
   "execution_count": null,
   "id": "2c440410",
   "metadata": {},
   "outputs": [],
   "source": [
    "# importing the required modules\n",
    "import glob\n",
    "import pandas as pd"
   ]
  },
  {
   "cell_type": "code",
   "execution_count": null,
   "id": "cdc7ac9b",
   "metadata": {},
   "outputs": [],
   "source": [
    "# specifying the path to csv files\n",
    "path = \"C:/downloads\"\n",
    " \n",
    "# csv files in the path\n",
    "file_list = glob.glob(path + \"/*.xlsx\")"
   ]
  },
  {
   "cell_type": "code",
   "execution_count": null,
   "id": "e40ea78d",
   "metadata": {},
   "outputs": [],
   "source": [
    "# list of excel files we want to merge.\n",
    "# pd.read_excel(file_path) reads the excel\n",
    "# data into pandas dataframe.\n",
    "excl_list = []\n",
    " \n",
    "for file in file_list:\n",
    "    excl_list.append(pd.read_excel(file))"
   ]
  },
  {
   "cell_type": "code",
   "execution_count": null,
   "id": "f5845142",
   "metadata": {},
   "outputs": [],
   "source": [
    "# create a new dataframe to store the \n",
    "# merged excel file.\n",
    "excl_merged = pd.DataFrame()\n",
    " \n",
    "for excl_file in excl_list:\n",
    "     \n",
    "    # appends the data into the excl_merged \n",
    "    # dataframe.\n",
    "    excl_merged = excl_merged.append(\n",
    "      excl_file, ignore_index=True)"
   ]
  },
  {
   "cell_type": "code",
   "execution_count": null,
   "id": "f7865a96",
   "metadata": {},
   "outputs": [],
   "source": [
    "# exports the dataframe into excel file with\n",
    "# specified name.\n",
    "excl_merged.to_excel('total_food_sales.xlsx', index=False)"
   ]
  }
 ],
 "metadata": {
  "kernelspec": {
   "display_name": "Python 3 (ipykernel)",
   "language": "python",
   "name": "python3"
  },
  "language_info": {
   "codemirror_mode": {
    "name": "ipython",
    "version": 3
   },
   "file_extension": ".py",
   "mimetype": "text/x-python",
   "name": "python",
   "nbconvert_exporter": "python",
   "pygments_lexer": "ipython3",
   "version": "3.10.13"
  }
 },
 "nbformat": 4,
 "nbformat_minor": 5
}
